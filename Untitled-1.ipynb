{
 "cells": [
  {
   "cell_type": "code",
   "execution_count": null,
   "metadata": {},
   "outputs": [],
   "source": [
    "for numero in range(1, 101):\n",
    "    cuadrado = numero * numero\n",
    "    print(f\"Número: {numero}, Cuadrado: {cuadrado}\")"
   ]
  },
  {
   "cell_type": "code",
   "execution_count": null,
   "metadata": {},
   "outputs": [],
   "source": [
    "print(\"Números impares:\")\n",
    "for i in range(1, 1000, 2):\n",
    "    print(i)\n",
    "print(\"Números pares:\")\n",
    "for j in range (2, 1001, 2):\n",
    "    print(j)"
   ]
  },
  {
   "cell_type": "code",
   "execution_count": null,
   "metadata": {},
   "outputs": [],
   "source": [
    "n  = int(input(\"Ingrese un número natural mayor o igual a 2: \"))\n",
    "print(\"Los números pares en forma descendente desde \" +str(n)+ \" hasta 2 son:\")\n",
    "if n % 2 != 0:\n",
    "    n = n - 1\n",
    "else:\n",
    "    n = n\n",
    "for i in range(n, 1, -2):\n",
    "    print(str(i))"
   ]
  },
  {
   "cell_type": "code",
   "execution_count": null,
   "metadata": {},
   "outputs": [],
   "source": [
    "numero = int(input(\"Ingrese un numero natural: \"))\n",
    "inicio : int = 1\n",
    "fact : int = 1\n",
    "for inicio in range(1, numero + 1,1):\n",
    "  for i in range(1, inicio +1):\n",
    "    fact = fact*i\n",
    "  print(\"Fatorial de \" +str(inicio)+ \" es \" +str(fact))\n",
    "  fact = 1"
   ]
  },
  {
   "cell_type": "code",
   "execution_count": null,
   "metadata": {},
   "outputs": [],
   "source": [
    "num_c : int = 2\n",
    "potencia = int(input(\"Ingresa el número que desees: \"))\n",
    "numero : int = 2\n",
    "for i in range(1, potencia, 1):\n",
    "  num_c = num_c *numero\n",
    "print(\"2 elevado a la potencia \" +str(potencia)+ \" es igual a \" +str(num_c))"
   ]
  },
  {
   "cell_type": "code",
   "execution_count": null,
   "metadata": {},
   "outputs": [],
   "source": [
    "numero_b = float(input(\"Ingresa un número real: \"))\n",
    "numero_a = int(input(\"Ingresa un número natural: \"))\n",
    "b = numero_b\n",
    "for i in range(1,numero_a):\n",
    "  numero_b = numero_b * b\n",
    "print(\"El numero \" +str(b)+\" elevado a la potencia \" +str(numero_a)+ \" es : \" +str(numero_b))"
   ]
  },
  {
   "cell_type": "code",
   "execution_count": null,
   "metadata": {},
   "outputs": [],
   "source": [
    "mult=1\n",
    "for i in range(1, 10):\n",
    "  print(\"------------------------------------------------\")\n",
    "  print(\"Tabla de multiplicar del \" + str(i))\n",
    "  for j in range (1, 11):\n",
    "    mult=i*j\n",
    "    print(str(i) + \" x \" + str(j) + \" = \" + str(mult))\n"
   ]
  },
  {
   "cell_type": "code",
   "execution_count": null,
   "metadata": {},
   "outputs": [],
   "source": [
    "\n",
    "import math\n",
    "from math import exp, factorial\n",
    "def AproxFuncionExponencial(x: float, n:int) -> float:\n",
    "  suma: float = 0\n",
    "  for i in range(0, n+1):\n",
    "    y = ((x**i)/factorial(i))\n",
    "    suma += y\n",
    "  return suma\n",
    "if __name__ == \"__main__\":\n",
    "  x = float(input(\"Ingrese un número real: \"))\n",
    "  n: int = 1\n",
    "  rta1: float = AproxFuncionExponencial(x, n)\n",
    "  aprox: float = AproxFuncionExponencial(x, n)\n",
    "  valorReal: float = exp(x)\n",
    "  while ((abs(valorReal - aprox)/valorReal * 100)>0.1):\n",
    "    aprox: float = AproxFuncionExponencial(x, n)\n",
    "    n += 1\n",
    "  print(\"El valor de n para tener un error menor a 0.1: \" + str(n))\n",
    "  print(\"La aproximación es: \" + str(aprox))\n",
    "  print(\"El valor real es: \" + str(valorReal))\n"
   ]
  },
  {
   "cell_type": "code",
   "execution_count": null,
   "metadata": {},
   "outputs": [],
   "source": [
    "import math\n",
    "def seno(x, n):\n",
    "    aproximacion = 0\n",
    "    for i in range(n):\n",
    "        aproximacion += ((-1) ** i) * (x ** (2 * i + 1)) / math.factorial(2 * i + 1)\n",
    "    return aproximacion\n",
    "x = float(input(\"Ingrese el valor de x: \"))\n",
    "n = int(input(\"Ingrese el número de términos de la serie de maclaurin a utilizar: \"))\n",
    "aproximacion = seno(x, n)\n",
    "valor_real = math.sin(x)\n",
    "diferencia = valor_real - aproximacion\n",
    "print(\"La aproximación de la función seno para x = \" +str(x)+ \" utilizando los primeros \" +str(n)+ \" términos de la serie de maclaurin: \" +str(aproximacion))\n",
    "print(\"El valor real de la función seno para x = \" +str(x)+ \" es: \" +str(valor_real))\n",
    "print(\"La diferencia entre la aproximación y el valor real es: \" +str(diferencia))"
   ]
  },
  {
   "cell_type": "code",
   "execution_count": null,
   "metadata": {},
   "outputs": [],
   "source": [
    "import math\n",
    "#función para calcular la aproximación de la función arcotangente\n",
    "def aproxarctan(x, n):\n",
    "    if abs(x) >= 1:\n",
    "        raise ValueError(\"El valor de x debe estar en el rango [-1, 1].\")\n",
    "    aproximacion = 0\n",
    "    for i in range(n):\n",
    "        termino = ((-1) ** i) * (x ** (2 * i + 1)) / (2 * i + 1)\n",
    "        aproximacion += termino\n",
    "    valor_real = math.atan(x)\n",
    "    diferencia = abs(valor_real - aproximacion)\n",
    "    return aproximacion, diferencia\n",
    "#pedir que ingrese el valor de x en el rango [-1, 1] y el número de términos n.\n",
    "x = float(input(\"Ingresa el valor de x en el rango [-1, 1]: \"))\n",
    "n = int(input(\"Ingresa el número de términos n: \"))\n",
    "#si x esté dentro del rango permitido [-1, 1].\n",
    "if abs(x) > 1:\n",
    "    print(\"El valor de x está fuera del rango permitido.\")\n",
    "else:\n",
    "    #calcular la aproximación, la diferencia con el valor real e imprimir los resultados.\n",
    "    aproximacion, diferencia = aproxarctan(x, n)\n",
    "    print(f\"Aproximación de arctan({x}) con {n} términos: {aproximacion}\")\n",
    "    print(f\"Valor real de arctan({x}): {math.atan(x)}\")\n",
    "    print(f\"Diferencia con el valor real: {diferencia:.4f}\")"
   ]
  }
 ],
 "metadata": {
  "language_info": {
   "name": "python"
  }
 },
 "nbformat": 4,
 "nbformat_minor": 2
}
